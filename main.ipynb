{
 "cells": [
  {
   "cell_type": "code",
   "execution_count": 5,
   "metadata": {},
   "outputs": [],
   "source": [
    "# Generators (saves the memory) ITERATOR\n",
    "\n",
    "# Lazy evaluation (one by one)\n",
    "# Generator for Fibonacci numbers\n",
    "def generator_fibonacci():\n",
    "    a, b = 0, 1\n",
    "    while True:\n",
    "        yield a\n",
    "        a, b = b, a + b"
   ]
  },
  {
   "cell_type": "code",
   "execution_count": 6,
   "metadata": {},
   "outputs": [],
   "source": [
    "#  generator instance\n",
    "fib_gen = generator_fibonacci()"
   ]
  },
  {
   "cell_type": "code",
   "execution_count": 7,
   "metadata": {},
   "outputs": [
    {
     "name": "stdout",
     "output_type": "stream",
     "text": [
      "0\n",
      "1\n",
      "1\n",
      "2\n",
      "3\n",
      "5\n",
      "8\n",
      "13\n",
      "21\n",
      "34\n"
     ]
    }
   ],
   "source": [
    "# use the generator for the first 10 \n",
    "for _ in range(10):\n",
    "    print(next(fib_gen))"
   ]
  },
  {
   "cell_type": "code",
   "execution_count": 8,
   "metadata": {},
   "outputs": [
    {
     "name": "stdout",
     "output_type": "stream",
     "text": [
      "55\n"
     ]
    }
   ],
   "source": [
    "print(next(fib_gen)) # it remembers where it was"
   ]
  },
  {
   "cell_type": "code",
   "execution_count": 10,
   "metadata": {},
   "outputs": [
    {
     "data": {
      "text/plain": [
       "[0, 1, 4, 9, 16, 25, 36, 49, 64, 81]"
      ]
     },
     "execution_count": 10,
     "metadata": {},
     "output_type": "execute_result"
    }
   ],
   "source": [
    "# list comprehension\n",
    "list_squares =  [x ** 2 for x in range(10)]\n",
    "list_squares    "
   ]
  },
  {
   "cell_type": "code",
   "execution_count": 13,
   "metadata": {},
   "outputs": [
    {
     "data": {
      "text/plain": [
       "generator"
      ]
     },
     "execution_count": 13,
     "metadata": {},
     "output_type": "execute_result"
    }
   ],
   "source": [
    "# generator expression\n",
    "squares_generator = (x ** 2 for x in range(10))\n",
    "type(squares_generator)"
   ]
  },
  {
   "cell_type": "code",
   "execution_count": 15,
   "metadata": {},
   "outputs": [
    {
     "name": "stdout",
     "output_type": "stream",
     "text": [
      "0\n",
      "1\n",
      "4\n",
      "9\n",
      "16\n",
      "25\n",
      "36\n",
      "49\n",
      "64\n",
      "81\n"
     ]
    }
   ],
   "source": [
    "for nr in squares_generator: # show the ten first squared numbers\n",
    "    print(nr)"
   ]
  },
  {
   "cell_type": "code",
   "execution_count": 16,
   "metadata": {},
   "outputs": [
    {
     "ename": "StopIteration",
     "evalue": "",
     "output_type": "error",
     "traceback": [
      "\u001b[0;31m---------------------------------------------------------------------------\u001b[0m",
      "\u001b[0;31mStopIteration\u001b[0m                             Traceback (most recent call last)",
      "Cell \u001b[0;32mIn[16], line 2\u001b[0m\n\u001b[1;32m      1\u001b[0m \u001b[38;5;66;03m# next one\u001b[39;00m\n\u001b[0;32m----> 2\u001b[0m \u001b[38;5;28;43mnext\u001b[39;49m\u001b[43m(\u001b[49m\u001b[43msquares_generator\u001b[49m\u001b[43m)\u001b[49m\n",
      "\u001b[0;31mStopIteration\u001b[0m: "
     ]
    }
   ],
   "source": [
    "# next one\n",
    "next(squares_generator) # StopIteration Error (no anymore numbers)"
   ]
  },
  {
   "cell_type": "code",
   "execution_count": 18,
   "metadata": {},
   "outputs": [],
   "source": [
    "# Inclusive Range Generator (starts from 1 and iterate through the last one inclusive)\n",
    "def range_inclusive(*args):\n",
    "    nr_arg = len(args) # how many arguments\n",
    "    start = 1\n",
    "    step = 1\n",
    "    # error\n",
    "    if nr_arg < 1:\n",
    "        raise TypeError(f'It should at least have an argument')\n",
    "    elif nr_arg == 1:\n",
    "        stop = args[0]\n",
    "    elif nr_arg == 2:\n",
    "        (start, stop) = args\n",
    "    elif nr_arg == 3:\n",
    "        (start, stop, step) = args \n",
    "    else: \n",
    "        raise TypeError(f'Too much arguments, it should be maximum 3')\n",
    "\n",
    "    # write the generator\n",
    "    i = start \n",
    "    while i <= stop:\n",
    "        yield i\n",
    "        i += step"
   ]
  },
  {
   "cell_type": "code",
   "execution_count": 19,
   "metadata": {},
   "outputs": [
    {
     "name": "stdout",
     "output_type": "stream",
     "text": [
      "5\n",
      "10\n",
      "15\n",
      "20\n",
      "25\n"
     ]
    }
   ],
   "source": [
    "for i in range_inclusive(5, 25, 5):\n",
    "    print(i)"
   ]
  },
  {
   "cell_type": "code",
   "execution_count": 27,
   "metadata": {},
   "outputs": [
    {
     "data": {
      "text/plain": [
       "generator"
      ]
     },
     "execution_count": 27,
     "metadata": {},
     "output_type": "execute_result"
    }
   ],
   "source": [
    "# generator expression \n",
    "cub_gen = (x ** 3 for x in range_inclusive(5, 25, 5))\n",
    "type(cub_gen)"
   ]
  },
  {
   "cell_type": "code",
   "execution_count": 28,
   "metadata": {},
   "outputs": [
    {
     "data": {
      "text/plain": [
       "125"
      ]
     },
     "execution_count": 28,
     "metadata": {},
     "output_type": "execute_result"
    }
   ],
   "source": [
    "next(cub_gen)"
   ]
  },
  {
   "cell_type": "code",
   "execution_count": 29,
   "metadata": {},
   "outputs": [
    {
     "data": {
      "text/plain": [
       "1000"
      ]
     },
     "execution_count": 29,
     "metadata": {},
     "output_type": "execute_result"
    }
   ],
   "source": [
    "next(cub_gen)"
   ]
  },
  {
   "cell_type": "code",
   "execution_count": 38,
   "metadata": {},
   "outputs": [],
   "source": [
    "# Class inheritance & overriding\n",
    "\n",
    "class Angajat:\n",
    "\n",
    "    def __init__(self, nume, salariu):\n",
    "        self.nume = nume\n",
    "        self.salariu = salariu\n",
    "        \n",
    "    def getInfo(self):\n",
    "        return \"Angajatul: {} Salariu: {}\".format(self.nume, self.salariu)\n",
    "    \n",
    "    def __str__(self) -> str:\n",
    "        return \"Sunt angajat\""
   ]
  },
  {
   "cell_type": "code",
   "execution_count": 71,
   "metadata": {},
   "outputs": [],
   "source": [
    "class Programator(Angajat):\n",
    "\n",
    "    def __init__(self, nume, salariu, limbaj):\n",
    "        super().__init__(nume, salariu) # polymorphism\n",
    "        self.limbaj = limbaj\n",
    "          \n",
    "    def getInfo(self):\n",
    "        return \"Programatorul: {} Salariu: euro {} si stie {}\".format(self.nume, self.salariu, self.limbaj)\n",
    "\n"
   ]
  },
  {
   "cell_type": "code",
   "execution_count": 72,
   "metadata": {},
   "outputs": [
    {
     "name": "stdout",
     "output_type": "stream",
     "text": [
      "Programatorul: Marius Salariu: euro 1000 si stie Python\n",
      "Sunt angajat\n"
     ]
    }
   ],
   "source": [
    "Marius = Programator(\"Marius\", 1000, \"Python\")\n",
    "print(Marius.getInfo())\n",
    "print(Marius)"
   ]
  },
  {
   "cell_type": "code",
   "execution_count": 66,
   "metadata": {},
   "outputs": [],
   "source": [
    "class Manager(Angajat):\n",
    "    \n",
    "    def getInfo(self):\n",
    "        return \"Managerul: {} Salariu: {}\".format(self.nume, self.salariu)"
   ]
  },
  {
   "cell_type": "code",
   "execution_count": 67,
   "metadata": {},
   "outputs": [],
   "source": [
    "Jean = Manager(\"Jean\", 2000)"
   ]
  },
  {
   "cell_type": "code",
   "execution_count": 68,
   "metadata": {},
   "outputs": [
    {
     "name": "stdout",
     "output_type": "stream",
     "text": [
      "Sunt angajat\n",
      "Managerul: Jean Salariu: 2000\n"
     ]
    }
   ],
   "source": [
    "print(Jean)\n",
    "print(Jean.getInfo())"
   ]
  },
  {
   "cell_type": "code",
   "execution_count": 69,
   "metadata": {},
   "outputs": [
    {
     "name": "stdout",
     "output_type": "stream",
     "text": [
      "['__class__', '__delattr__', '__dict__', '__dir__', '__doc__', '__eq__', '__format__', '__ge__', '__getattribute__', '__gt__', '__hash__', '__init__', '__init_subclass__', '__le__', '__lt__', '__module__', '__ne__', '__new__', '__reduce__', '__reduce_ex__', '__repr__', '__setattr__', '__sizeof__', '__str__', '__subclasshook__', '__weakref__', 'getInfo', 'nume', 'salariu']\n"
     ]
    }
   ],
   "source": [
    "print(dir(Jean))"
   ]
  },
  {
   "cell_type": "code",
   "execution_count": 78,
   "metadata": {},
   "outputs": [],
   "source": [
    "# Abstract class\n",
    "\n",
    "from abc import ABC, abstractmethod\n",
    "\n",
    "class Forma(ABC):\n",
    "    def __init__(self, x, y):\n",
    "        self.x = x \n",
    "        self.y = y\n",
    "    \n",
    "    @abstractmethod # decorator\n",
    "    def getInfo(self):\n",
    "        pass\n",
    "\n",
    "class Cerc(Forma):\n",
    "\n",
    "    def __init__(self, x, y, raza):\n",
    "        super().__init__(x, y)\n",
    "        self.raza = raza\n",
    "\n",
    "    def getInfo(self):\n",
    "        return \"Cercul cu pozitiile ({} {})\".format(self.x, self.y)\n",
    "\n",
    "class Patrat(Forma):\n",
    "\n",
    "    def __init__(self, x, y, latime, lungime):\n",
    "        super().__init__(x, y)\n",
    "        self.latime = latime\n",
    "        self.lungime = lungime\n",
    "\n",
    "    def getInfo(self):\n",
    "        return \"Patratul cu pozitiile ({} {})\".format(self.x, self.y)\n",
    "\n",
    "class Dreptunghi(Forma):\n",
    "\n",
    "    def __init__(self, x, y, lungime, inaltime):\n",
    "        super().__init__(x, y)\n",
    "        self.inaltime = inaltime\n",
    "        self.lungime = lungime\n",
    "        \n",
    "    def getInfo(self):\n",
    "        return \"Dreptunghi cu pozitiile ({} {})\".format(self.x, self.y)\n"
   ]
  },
  {
   "cell_type": "code",
   "execution_count": 76,
   "metadata": {},
   "outputs": [],
   "source": [
    "# triunghi = Dreptunghi() TypeError"
   ]
  },
  {
   "cell_type": "code",
   "execution_count": 7,
   "metadata": {},
   "outputs": [
    {
     "name": "stdout",
     "output_type": "stream",
     "text": [
      "[(1, 2), (3, 4), (5, 6), (7, 8), (9, 10)]\n"
     ]
    }
   ],
   "source": [
    "# tema -> Sa se construiasca fie o lista de cifre 1 -> 10, din aceasta lista de cifre sa se construiasca o lista de perechi de tuple: (1, 2), (3, 4), (5, 6), (7, 8), (9, 10)\n",
    "\n",
    "# first method\n",
    "\n",
    "list_of_tuples = []\n",
    "\n",
    "for i in range(1, 11, 2):\n",
    "    list_of_tuples.append((i, i + 1))\n",
    "\n",
    "print(list_of_tuples)"
   ]
  },
  {
   "cell_type": "code",
   "execution_count": 8,
   "metadata": {},
   "outputs": [
    {
     "data": {
      "text/plain": [
       "[(1, 2), (3, 4), (5, 6), (7, 8), (9, 10)]"
      ]
     },
     "execution_count": 8,
     "metadata": {},
     "output_type": "execute_result"
    }
   ],
   "source": [
    "# second method => comprehension list\n",
    "\n",
    "digits = [1, 2, 3, 4, 5, 6, 7, 8, 9, 10]\n",
    "tuples_pair = [(digits[i], digits[i + 1]) for i in range(0, len(digits) - 1, 2)]\n",
    "tuples_pair"
   ]
  },
  {
   "cell_type": "code",
   "execution_count": 9,
   "metadata": {},
   "outputs": [
    {
     "data": {
      "text/plain": [
       "[('Julian', 'Alexander'), ('Elisabeta', 'Lucy'), ('Roxanne', 'Adriano')]"
      ]
     },
     "execution_count": 9,
     "metadata": {},
     "output_type": "execute_result"
    }
   ],
   "source": [
    "# zip function\n",
    "\n",
    "list1 = ['Julian', 'Elisabeta', 'Roxanne']\n",
    "list2 = ['Alexander', 'Lucy', 'Adriano']\n",
    "list(zip(list1, list2))"
   ]
  },
  {
   "cell_type": "code",
   "execution_count": 10,
   "metadata": {},
   "outputs": [
    {
     "data": {
      "text/plain": [
       "[(1, 2), (3, 4), (5, 6), (7, 8), (9, 10)]"
      ]
     },
     "execution_count": 10,
     "metadata": {},
     "output_type": "execute_result"
    }
   ],
   "source": [
    "# third method => zip\n",
    "\n",
    "zip_tuples_pair = list(zip(digits[::2], digits[1::2]))\n",
    "zip_tuples_pair"
   ]
  },
  {
   "cell_type": "code",
   "execution_count": 15,
   "metadata": {},
   "outputs": [
    {
     "data": {
      "text/plain": [
       "[(1, 2), (3, 4), (5, 6), (7, 8), (9, 10)]"
      ]
     },
     "execution_count": 15,
     "metadata": {},
     "output_type": "execute_result"
    }
   ],
   "source": [
    "# fourth method => generator\n",
    "\n",
    "def pairs(list):\n",
    "    length = len(list)\n",
    "\n",
    "    for i in range(0, length, 2):\n",
    "        if (length % 2 != 0 and i == length - 1):\n",
    "            yield (list[i])\n",
    "        else:\n",
    "            yield (list[i], list[i + 1])\n",
    "\n",
    "list(pairs(digits))"
   ]
  },
  {
   "cell_type": "code",
   "execution_count": 19,
   "metadata": {},
   "outputs": [],
   "source": [
    "# Encapsulation (acces variables from the respective class)\n",
    "\n",
    "class Student:\n",
    "    def __init__(self, name, mean_info, scholarship, height):\n",
    "        self._name = name # conventional symbol for protected\n",
    "        self._mean_info = mean_info\n",
    "        self._scholarship = scholarship\n",
    "        self._height = height\n",
    "    \n",
    "    def get_name(self):\n",
    "        print(self._name)"
   ]
  },
  {
   "cell_type": "code",
   "execution_count": 20,
   "metadata": {},
   "outputs": [
    {
     "name": "stdout",
     "output_type": "stream",
     "text": [
      "Marius\n"
     ]
    }
   ],
   "source": [
    "s1 = Student(\"Marius\", 9, True, 1.80)\n",
    "s1.get_name()"
   ]
  },
  {
   "cell_type": "code",
   "execution_count": 22,
   "metadata": {},
   "outputs": [
    {
     "name": "stdout",
     "output_type": "stream",
     "text": [
      "Marius\n"
     ]
    }
   ],
   "source": [
    "print(s1._name) # no escapulation"
   ]
  },
  {
   "cell_type": "code",
   "execution_count": 23,
   "metadata": {},
   "outputs": [],
   "source": [
    "# Encapsulation (acces variables from the respective class)\n",
    "\n",
    "class Student:\n",
    "    def __init__(self, name, mean_info, scholarship, height): # setter\n",
    "        self.__name = name # conventional symbol for private\n",
    "        self.__mean_info = mean_info\n",
    "        self.__scholarship = scholarship\n",
    "        self.__height = height\n",
    "    \n",
    "    def get_name(self): # getter\n",
    "        print(self.__name)"
   ]
  },
  {
   "cell_type": "code",
   "execution_count": 24,
   "metadata": {},
   "outputs": [
    {
     "name": "stdout",
     "output_type": "stream",
     "text": [
      "Marius\n"
     ]
    }
   ],
   "source": [
    "s1 = Student(\"Marius\", 9, True, 1.80)\n",
    "s1.get_name()"
   ]
  },
  {
   "cell_type": "code",
   "execution_count": 26,
   "metadata": {},
   "outputs": [],
   "source": [
    "# print(s1.__name) # error"
   ]
  },
  {
   "cell_type": "code",
   "execution_count": 32,
   "metadata": {},
   "outputs": [
    {
     "name": "stdout",
     "output_type": "stream",
     "text": [
      "Marius\n"
     ]
    }
   ],
   "source": [
    "print(s1._Student__name) # mangling"
   ]
  },
  {
   "cell_type": "code",
   "execution_count": 34,
   "metadata": {},
   "outputs": [],
   "source": [
    "# class methods\n",
    "\n",
    "class Student:\n",
    "    specy = 'Homo sapiens' # for all the objects\n",
    "\n",
    "    def __init__(self, name, mean_info, scholarship, height, flower): # setter\n",
    "        self._name = name # conventional symbol for private\n",
    "        self._mean_info = mean_info\n",
    "        self._scholarship = scholarship\n",
    "        self._height = height\n",
    "        self._flower = flower\n",
    "    \n",
    "    def get_name(self): # getter\n",
    "        print(self._name)"
   ]
  },
  {
   "cell_type": "code",
   "execution_count": 35,
   "metadata": {},
   "outputs": [
    {
     "name": "stdout",
     "output_type": "stream",
     "text": [
      "Maria\n"
     ]
    }
   ],
   "source": [
    "s3 = Student('Maria', 10, 1000, 1.70, \"Tulip\")\n",
    "s3.get_name()"
   ]
  },
  {
   "cell_type": "code",
   "execution_count": 36,
   "metadata": {},
   "outputs": [
    {
     "data": {
      "text/plain": [
       "'Homo sapiens'"
      ]
     },
     "execution_count": 36,
     "metadata": {},
     "output_type": "execute_result"
    }
   ],
   "source": [
    "s3.specy"
   ]
  },
  {
   "cell_type": "code",
   "execution_count": 37,
   "metadata": {},
   "outputs": [
    {
     "data": {
      "text/plain": [
       "'Homo sapiens'"
      ]
     },
     "execution_count": 37,
     "metadata": {},
     "output_type": "execute_result"
    }
   ],
   "source": [
    "Student.specy"
   ]
  },
  {
   "cell_type": "code",
   "execution_count": 38,
   "metadata": {},
   "outputs": [
    {
     "name": "stdout",
     "output_type": "stream",
     "text": [
      "Roxanne\n"
     ]
    }
   ],
   "source": [
    "s4 = Student('Roxanne', 10, 1000, 1.80, \"Tulip\")\n",
    "s4.get_name()"
   ]
  },
  {
   "cell_type": "code",
   "execution_count": 39,
   "metadata": {},
   "outputs": [
    {
     "data": {
      "text/plain": [
       "'Homo sapiens'"
      ]
     },
     "execution_count": 39,
     "metadata": {},
     "output_type": "execute_result"
    }
   ],
   "source": [
    "s4.specy"
   ]
  },
  {
   "cell_type": "code",
   "execution_count": 40,
   "metadata": {},
   "outputs": [],
   "source": [
    "# static method\n",
    "\n",
    "class Person:\n",
    "    def __init__(self, name, age):\n",
    "        self._name = name \n",
    "        self._age = age\n",
    "\n",
    "    @staticmethod\n",
    "    def is_adult(age):\n",
    "        return age >= 18"
   ]
  },
  {
   "cell_type": "code",
   "execution_count": 42,
   "metadata": {},
   "outputs": [
    {
     "data": {
      "text/plain": [
       "True"
      ]
     },
     "execution_count": 42,
     "metadata": {},
     "output_type": "execute_result"
    }
   ],
   "source": [
    "p1 = Person(\"Marius\", 22)\n",
    "p1.is_adult((23))"
   ]
  },
  {
   "cell_type": "code",
   "execution_count": 44,
   "metadata": {},
   "outputs": [
    {
     "data": {
      "text/plain": [
       "True"
      ]
     },
     "execution_count": 44,
     "metadata": {},
     "output_type": "execute_result"
    }
   ],
   "source": [
    "Person.is_adult((23))"
   ]
  }
 ],
 "metadata": {
  "kernelspec": {
   "display_name": "Python 3",
   "language": "python",
   "name": "python3"
  },
  "language_info": {
   "codemirror_mode": {
    "name": "ipython",
    "version": 3
   },
   "file_extension": ".py",
   "mimetype": "text/x-python",
   "name": "python",
   "nbconvert_exporter": "python",
   "pygments_lexer": "ipython3",
   "version": "3.10.13"
  }
 },
 "nbformat": 4,
 "nbformat_minor": 2
}
