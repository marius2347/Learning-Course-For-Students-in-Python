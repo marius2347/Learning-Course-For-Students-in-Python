{
 "cells": [
  {
   "cell_type": "code",
   "execution_count": 9,
   "metadata": {},
   "outputs": [],
   "source": [
    "# Generators (saves the memory) ITERATOR\n",
    "\n",
    "# Lazy evaluation (one by one)\n",
    "# Generator for Fibonacci numbers\n",
    "def generator_fibonacci():\n",
    "    a, b = 0, 1\n",
    "    while True:\n",
    "        yield a\n",
    "        a, b = b, a + b"
   ]
  },
  {
   "cell_type": "code",
   "execution_count": 10,
   "metadata": {},
   "outputs": [],
   "source": [
    "#  generator instance\n",
    "fib_gen = generator_fibonacci()"
   ]
  },
  {
   "cell_type": "code",
   "execution_count": 11,
   "metadata": {},
   "outputs": [
    {
     "name": "stdout",
     "output_type": "stream",
     "text": [
      "0\n",
      "1\n",
      "1\n",
      "2\n",
      "3\n",
      "5\n",
      "8\n",
      "13\n",
      "21\n",
      "34\n"
     ]
    }
   ],
   "source": [
    "# use the generator for the first 10 \n",
    "for _ in range(10):\n",
    "    print(next(fib_gen))"
   ]
  },
  {
   "cell_type": "code",
   "execution_count": 12,
   "metadata": {},
   "outputs": [
    {
     "name": "stdout",
     "output_type": "stream",
     "text": [
      "55\n"
     ]
    }
   ],
   "source": [
    "print(next(fib_gen)) # it remembers where it was"
   ]
  },
  {
   "cell_type": "code",
   "execution_count": 13,
   "metadata": {},
   "outputs": [
    {
     "data": {
      "text/plain": [
       "[0, 1, 4, 9, 16, 25, 36, 49, 64, 81]"
      ]
     },
     "execution_count": 13,
     "metadata": {},
     "output_type": "execute_result"
    }
   ],
   "source": [
    "# list comprehension\n",
    "list_squares =  [x ** 2 for x in range(10)]\n",
    "list_squares    "
   ]
  },
  {
   "cell_type": "code",
   "execution_count": 14,
   "metadata": {},
   "outputs": [
    {
     "data": {
      "text/plain": [
       "generator"
      ]
     },
     "execution_count": 14,
     "metadata": {},
     "output_type": "execute_result"
    }
   ],
   "source": [
    "# generator expression\n",
    "squares_generator = (x ** 2 for x in range(10))\n",
    "type(squares_generator)"
   ]
  },
  {
   "cell_type": "code",
   "execution_count": 15,
   "metadata": {},
   "outputs": [
    {
     "name": "stdout",
     "output_type": "stream",
     "text": [
      "0\n",
      "1\n",
      "4\n",
      "9\n",
      "16\n",
      "25\n",
      "36\n",
      "49\n",
      "64\n",
      "81\n"
     ]
    }
   ],
   "source": [
    "for nr in squares_generator: # show the ten first squared numbers\n",
    "    print(nr)"
   ]
  },
  {
   "cell_type": "code",
   "execution_count": 16,
   "metadata": {},
   "outputs": [
    {
     "ename": "StopIteration",
     "evalue": "",
     "output_type": "error",
     "traceback": [
      "\u001b[0;31m---------------------------------------------------------------------------\u001b[0m",
      "\u001b[0;31mStopIteration\u001b[0m                             Traceback (most recent call last)",
      "Cell \u001b[0;32mIn[16], line 2\u001b[0m\n\u001b[1;32m      1\u001b[0m \u001b[38;5;66;03m# next one\u001b[39;00m\n\u001b[0;32m----> 2\u001b[0m \u001b[38;5;28;43mnext\u001b[39;49m\u001b[43m(\u001b[49m\u001b[43msquares_generator\u001b[49m\u001b[43m)\u001b[49m \u001b[38;5;66;03m# StopIteration Error (no anymore numbers)\u001b[39;00m\n",
      "\u001b[0;31mStopIteration\u001b[0m: "
     ]
    }
   ],
   "source": [
    "# next one\n",
    "next(squares_generator) # StopIteration Error (no anymore numbers)"
   ]
  },
  {
   "cell_type": "code",
   "execution_count": null,
   "metadata": {},
   "outputs": [],
   "source": [
    "# Inclusive Range Generator (starts from 1 and iterate through the last one inclusive)\n",
    "def range_inclusive(*args):\n",
    "    nr_arg = len(args) # how many arguments\n",
    "    start = 1\n",
    "    step = 1\n",
    "    # error\n",
    "    if nr_arg < 1:\n",
    "        raise TypeError(f'It should at least have an argument')\n",
    "    elif nr_arg == 1:\n",
    "        stop = args[0]\n",
    "    elif nr_arg == 2:\n",
    "        (start, stop) = args\n",
    "    elif nr_arg == 3:\n",
    "        (start, stop, step) = args \n",
    "    else: \n",
    "        raise TypeError(f'Too much arguments, it should be maximum 3')\n",
    "\n",
    "    # write the generator\n",
    "    i = start \n",
    "    while i <= stop:\n",
    "        yield i\n",
    "        i += step"
   ]
  },
  {
   "cell_type": "code",
   "execution_count": null,
   "metadata": {},
   "outputs": [
    {
     "name": "stdout",
     "output_type": "stream",
     "text": [
      "5\n",
      "10\n",
      "15\n",
      "20\n",
      "25\n"
     ]
    }
   ],
   "source": [
    "for i in range_inclusive(5, 25, 5):\n",
    "    print(i)"
   ]
  },
  {
   "cell_type": "code",
   "execution_count": null,
   "metadata": {},
   "outputs": [
    {
     "data": {
      "text/plain": [
       "generator"
      ]
     },
     "execution_count": 27,
     "metadata": {},
     "output_type": "execute_result"
    }
   ],
   "source": [
    "# generator expression \n",
    "cub_gen = (x ** 3 for x in range_inclusive(5, 25, 5))\n",
    "type(cub_gen)"
   ]
  },
  {
   "cell_type": "code",
   "execution_count": null,
   "metadata": {},
   "outputs": [
    {
     "data": {
      "text/plain": [
       "125"
      ]
     },
     "execution_count": 28,
     "metadata": {},
     "output_type": "execute_result"
    }
   ],
   "source": [
    "next(cub_gen)"
   ]
  },
  {
   "cell_type": "code",
   "execution_count": null,
   "metadata": {},
   "outputs": [
    {
     "data": {
      "text/plain": [
       "1000"
      ]
     },
     "execution_count": 29,
     "metadata": {},
     "output_type": "execute_result"
    }
   ],
   "source": [
    "next(cub_gen)"
   ]
  },
  {
   "cell_type": "code",
   "execution_count": null,
   "metadata": {},
   "outputs": [],
   "source": [
    "# Class inheritance & overriding\n",
    "\n",
    "class Angajat:\n",
    "\n",
    "    def __init__(self, nume, salariu):\n",
    "        self.nume = nume\n",
    "        self.salariu = salariu\n",
    "        \n",
    "    def getInfo(self):\n",
    "        return \"Angajatul: {} Salariu: {}\".format(self.nume, self.salariu)\n",
    "    \n",
    "    def __str__(self) -> str:\n",
    "        return \"Sunt angajat\""
   ]
  },
  {
   "cell_type": "code",
   "execution_count": null,
   "metadata": {},
   "outputs": [],
   "source": [
    "class Programator(Angajat):\n",
    "\n",
    "    def __init__(self, nume, salariu, limbaj):\n",
    "        super().__init__(nume, salariu) # polymorphism\n",
    "        self.limbaj = limbaj\n",
    "          \n",
    "    def getInfo(self):\n",
    "        return \"Programatorul: {} Salariu: euro {} si stie {}\".format(self.nume, self.salariu, self.limbaj)\n",
    "\n"
   ]
  },
  {
   "cell_type": "code",
   "execution_count": null,
   "metadata": {},
   "outputs": [
    {
     "name": "stdout",
     "output_type": "stream",
     "text": [
      "Programatorul: Marius Salariu: euro 1000 si stie Python\n",
      "Sunt angajat\n"
     ]
    }
   ],
   "source": [
    "Marius = Programator(\"Marius\", 1000, \"Python\")\n",
    "print(Marius.getInfo())\n",
    "print(Marius)"
   ]
  },
  {
   "cell_type": "code",
   "execution_count": null,
   "metadata": {},
   "outputs": [],
   "source": [
    "class Manager(Angajat):\n",
    "    \n",
    "    def getInfo(self):\n",
    "        return \"Managerul: {} Salariu: {}\".format(self.nume, self.salariu)"
   ]
  },
  {
   "cell_type": "code",
   "execution_count": null,
   "metadata": {},
   "outputs": [],
   "source": [
    "Jean = Manager(\"Jean\", 2000)"
   ]
  },
  {
   "cell_type": "code",
   "execution_count": null,
   "metadata": {},
   "outputs": [
    {
     "name": "stdout",
     "output_type": "stream",
     "text": [
      "Sunt angajat\n",
      "Managerul: Jean Salariu: 2000\n"
     ]
    }
   ],
   "source": [
    "print(Jean)\n",
    "print(Jean.getInfo())"
   ]
  },
  {
   "cell_type": "code",
   "execution_count": null,
   "metadata": {},
   "outputs": [
    {
     "name": "stdout",
     "output_type": "stream",
     "text": [
      "['__class__', '__delattr__', '__dict__', '__dir__', '__doc__', '__eq__', '__format__', '__ge__', '__getattribute__', '__gt__', '__hash__', '__init__', '__init_subclass__', '__le__', '__lt__', '__module__', '__ne__', '__new__', '__reduce__', '__reduce_ex__', '__repr__', '__setattr__', '__sizeof__', '__str__', '__subclasshook__', '__weakref__', 'getInfo', 'nume', 'salariu']\n"
     ]
    }
   ],
   "source": [
    "print(dir(Jean))"
   ]
  },
  {
   "cell_type": "code",
   "execution_count": null,
   "metadata": {},
   "outputs": [],
   "source": [
    "# Abstract class\n",
    "\n",
    "from abc import ABC, abstractmethod\n",
    "\n",
    "class Forma(ABC):\n",
    "    def __init__(self, x, y):\n",
    "        self.x = x \n",
    "        self.y = y\n",
    "    \n",
    "    @abstractmethod # decorator\n",
    "    def getInfo(self):\n",
    "        pass\n",
    "\n",
    "class Cerc(Forma):\n",
    "\n",
    "    def __init__(self, x, y, raza):\n",
    "        super().__init__(x, y)\n",
    "        self.raza = raza\n",
    "\n",
    "    def getInfo(self):\n",
    "        return \"Cercul cu pozitiile ({} {})\".format(self.x, self.y)\n",
    "\n",
    "class Patrat(Forma):\n",
    "\n",
    "    def __init__(self, x, y, latime, lungime):\n",
    "        super().__init__(x, y)\n",
    "        self.latime = latime\n",
    "        self.lungime = lungime\n",
    "\n",
    "    def getInfo(self):\n",
    "        return \"Patratul cu pozitiile ({} {})\".format(self.x, self.y)\n",
    "\n",
    "class Dreptunghi(Forma):\n",
    "\n",
    "    def __init__(self, x, y, lungime, inaltime):\n",
    "        super().__init__(x, y)\n",
    "        self.inaltime = inaltime\n",
    "        self.lungime = lungime\n",
    "        \n",
    "    def getInfo(self):\n",
    "        return \"Dreptunghi cu pozitiile ({} {})\".format(self.x, self.y)\n"
   ]
  },
  {
   "cell_type": "code",
   "execution_count": null,
   "metadata": {},
   "outputs": [],
   "source": [
    "# triunghi = Dreptunghi() TypeError"
   ]
  },
  {
   "cell_type": "code",
   "execution_count": null,
   "metadata": {},
   "outputs": [
    {
     "name": "stdout",
     "output_type": "stream",
     "text": [
      "[(1, 2), (3, 4), (5, 6), (7, 8), (9, 10)]\n"
     ]
    }
   ],
   "source": [
    "# tema -> Sa se construiasca fie o lista de cifre 1 -> 10, din aceasta lista de cifre sa se construiasca o lista de perechi de tuple: (1, 2), (3, 4), (5, 6), (7, 8), (9, 10)\n",
    "\n",
    "# first method\n",
    "\n",
    "list_of_tuples = []\n",
    "\n",
    "for i in range(1, 11, 2):\n",
    "    list_of_tuples.append((i, i + 1))\n",
    "\n",
    "print(list_of_tuples)"
   ]
  },
  {
   "cell_type": "code",
   "execution_count": null,
   "metadata": {},
   "outputs": [
    {
     "data": {
      "text/plain": [
       "[(1, 2), (3, 4), (5, 6), (7, 8), (9, 10)]"
      ]
     },
     "execution_count": 8,
     "metadata": {},
     "output_type": "execute_result"
    }
   ],
   "source": [
    "# second method => comprehension list\n",
    "\n",
    "digits = [1, 2, 3, 4, 5, 6, 7, 8, 9, 10]\n",
    "tuples_pair = [(digits[i], digits[i + 1]) for i in range(0, len(digits) - 1, 2)]\n",
    "tuples_pair"
   ]
  },
  {
   "cell_type": "code",
   "execution_count": null,
   "metadata": {},
   "outputs": [
    {
     "data": {
      "text/plain": [
       "[('Julian', 'Alexander'), ('Elisabeta', 'Lucy'), ('Roxanne', 'Adriano')]"
      ]
     },
     "execution_count": 9,
     "metadata": {},
     "output_type": "execute_result"
    }
   ],
   "source": [
    "# zip function\n",
    "\n",
    "list1 = ['Julian', 'Elisabeta', 'Roxanne']\n",
    "list2 = ['Alexander', 'Lucy', 'Adriano']\n",
    "list(zip(list1, list2))"
   ]
  },
  {
   "cell_type": "code",
   "execution_count": null,
   "metadata": {},
   "outputs": [
    {
     "data": {
      "text/plain": [
       "[(1, 2), (3, 4), (5, 6), (7, 8), (9, 10)]"
      ]
     },
     "execution_count": 10,
     "metadata": {},
     "output_type": "execute_result"
    }
   ],
   "source": [
    "# third method => zip\n",
    "\n",
    "zip_tuples_pair = list(zip(digits[::2], digits[1::2]))\n",
    "zip_tuples_pair"
   ]
  },
  {
   "cell_type": "code",
   "execution_count": null,
   "metadata": {},
   "outputs": [
    {
     "data": {
      "text/plain": [
       "[(1, 2), (3, 4), (5, 6), (7, 8), (9, 10)]"
      ]
     },
     "execution_count": 15,
     "metadata": {},
     "output_type": "execute_result"
    }
   ],
   "source": [
    "# fourth method => generator\n",
    "\n",
    "def pairs(list):\n",
    "    length = len(list)\n",
    "\n",
    "    for i in range(0, length, 2):\n",
    "        if (length % 2 != 0 and i == length - 1):\n",
    "            yield (list[i])\n",
    "        else:\n",
    "            yield (list[i], list[i + 1])\n",
    "\n",
    "list(pairs(digits))"
   ]
  },
  {
   "cell_type": "code",
   "execution_count": null,
   "metadata": {},
   "outputs": [],
   "source": [
    "# Encapsulation (acces variables from the respective class)\n",
    "\n",
    "class Student:\n",
    "    def __init__(self, name, mean_info, scholarship, height):\n",
    "        self._name = name # conventional symbol for protected\n",
    "        self._mean_info = mean_info\n",
    "        self._scholarship = scholarship\n",
    "        self._height = height\n",
    "    \n",
    "    def get_name(self):\n",
    "        print(self._name)"
   ]
  },
  {
   "cell_type": "code",
   "execution_count": null,
   "metadata": {},
   "outputs": [
    {
     "name": "stdout",
     "output_type": "stream",
     "text": [
      "Marius\n"
     ]
    }
   ],
   "source": [
    "s1 = Student(\"Marius\", 9, True, 1.80)\n",
    "s1.get_name()"
   ]
  },
  {
   "cell_type": "code",
   "execution_count": null,
   "metadata": {},
   "outputs": [
    {
     "name": "stdout",
     "output_type": "stream",
     "text": [
      "Marius\n"
     ]
    }
   ],
   "source": [
    "print(s1._name) # no escapulation"
   ]
  },
  {
   "cell_type": "code",
   "execution_count": null,
   "metadata": {},
   "outputs": [],
   "source": [
    "# Encapsulation (acces variables from the respective class)\n",
    "\n",
    "class Student:\n",
    "    def __init__(self, name, mean_info, scholarship, height): # setter\n",
    "        self.__name = name # conventional symbol for private\n",
    "        self.__mean_info = mean_info\n",
    "        self.__scholarship = scholarship\n",
    "        self.__height = height\n",
    "    \n",
    "    def get_name(self): # getter\n",
    "        print(self.__name)"
   ]
  },
  {
   "cell_type": "code",
   "execution_count": null,
   "metadata": {},
   "outputs": [
    {
     "name": "stdout",
     "output_type": "stream",
     "text": [
      "Marius\n"
     ]
    }
   ],
   "source": [
    "s1 = Student(\"Marius\", 9, True, 1.80)\n",
    "s1.get_name()"
   ]
  },
  {
   "cell_type": "code",
   "execution_count": null,
   "metadata": {},
   "outputs": [],
   "source": [
    "# print(s1.__name) # error"
   ]
  },
  {
   "cell_type": "code",
   "execution_count": null,
   "metadata": {},
   "outputs": [
    {
     "name": "stdout",
     "output_type": "stream",
     "text": [
      "Marius\n"
     ]
    }
   ],
   "source": [
    "print(s1._Student__name) # mangling"
   ]
  },
  {
   "cell_type": "code",
   "execution_count": null,
   "metadata": {},
   "outputs": [],
   "source": [
    "# class methods\n",
    "\n",
    "class Student:\n",
    "    specy = 'Homo sapiens' # for all the objects\n",
    "\n",
    "    def __init__(self, name, mean_info, scholarship, height, flower): # setter\n",
    "        self._name = name # conventional symbol for private\n",
    "        self._mean_info = mean_info\n",
    "        self._scholarship = scholarship\n",
    "        self._height = height\n",
    "        self._flower = flower\n",
    "    \n",
    "    def get_name(self): # getter\n",
    "        print(self._name)"
   ]
  },
  {
   "cell_type": "code",
   "execution_count": null,
   "metadata": {},
   "outputs": [
    {
     "name": "stdout",
     "output_type": "stream",
     "text": [
      "Maria\n"
     ]
    }
   ],
   "source": [
    "s3 = Student('Maria', 10, 1000, 1.70, \"Tulip\")\n",
    "s3.get_name()"
   ]
  },
  {
   "cell_type": "code",
   "execution_count": null,
   "metadata": {},
   "outputs": [
    {
     "data": {
      "text/plain": [
       "'Homo sapiens'"
      ]
     },
     "execution_count": 36,
     "metadata": {},
     "output_type": "execute_result"
    }
   ],
   "source": [
    "s3.specy"
   ]
  },
  {
   "cell_type": "code",
   "execution_count": null,
   "metadata": {},
   "outputs": [
    {
     "data": {
      "text/plain": [
       "'Homo sapiens'"
      ]
     },
     "execution_count": 37,
     "metadata": {},
     "output_type": "execute_result"
    }
   ],
   "source": [
    "Student.specy"
   ]
  },
  {
   "cell_type": "code",
   "execution_count": null,
   "metadata": {},
   "outputs": [
    {
     "name": "stdout",
     "output_type": "stream",
     "text": [
      "Roxanne\n"
     ]
    }
   ],
   "source": [
    "s4 = Student('Roxanne', 10, 1000, 1.80, \"Tulip\")\n",
    "s4.get_name()"
   ]
  },
  {
   "cell_type": "code",
   "execution_count": null,
   "metadata": {},
   "outputs": [
    {
     "data": {
      "text/plain": [
       "'Homo sapiens'"
      ]
     },
     "execution_count": 39,
     "metadata": {},
     "output_type": "execute_result"
    }
   ],
   "source": [
    "s4.specy"
   ]
  },
  {
   "cell_type": "code",
   "execution_count": null,
   "metadata": {},
   "outputs": [],
   "source": [
    "# static method\n",
    "\n",
    "from datetime import date\n",
    "\n",
    "class Person:\n",
    "    def __init__(self, name, age):\n",
    "        self._name = name \n",
    "        self._age = age\n",
    "\n",
    "    @staticmethod\n",
    "    def is_adult(age):\n",
    "        return age >= 18\n",
    "    \n",
    "    # factory method\n",
    "    @classmethod # class method\n",
    "    def after_birth_year(cls, name, age):\n",
    "        return cls(name, date.today().year - age)"
   ]
  },
  {
   "cell_type": "code",
   "execution_count": null,
   "metadata": {},
   "outputs": [
    {
     "data": {
      "text/plain": [
       "True"
      ]
     },
     "execution_count": 42,
     "metadata": {},
     "output_type": "execute_result"
    }
   ],
   "source": [
    "p1 = Person(\"Marius\", 22)\n",
    "p1.is_adult((23))"
   ]
  },
  {
   "cell_type": "code",
   "execution_count": null,
   "metadata": {},
   "outputs": [
    {
     "data": {
      "text/plain": [
       "True"
      ]
     },
     "execution_count": 44,
     "metadata": {},
     "output_type": "execute_result"
    }
   ],
   "source": [
    "Person.is_adult((23))"
   ]
  },
  {
   "cell_type": "code",
   "execution_count": null,
   "metadata": {},
   "outputs": [],
   "source": [
    "p2 = Person.after_birth_year('Jake', 1968)"
   ]
  },
  {
   "cell_type": "code",
   "execution_count": null,
   "metadata": {},
   "outputs": [
    {
     "data": {
      "text/plain": [
       "56"
      ]
     },
     "execution_count": 57,
     "metadata": {},
     "output_type": "execute_result"
    }
   ],
   "source": [
    "p2._age"
   ]
  },
  {
   "cell_type": "code",
   "execution_count": null,
   "metadata": {},
   "outputs": [
    {
     "data": {
      "text/plain": [
       "['Ciobanu', 'Baciu', 'Trandafir']"
      ]
     },
     "execution_count": 10,
     "metadata": {},
     "output_type": "execute_result"
    }
   ],
   "source": [
    "names = [\"Ciobanu Marius\", \"Baciu Lucian\", \"Trandafir Laurentiu\"]\n",
    "[name.split()[0] for name in names]"
   ]
  },
  {
   "cell_type": "code",
   "execution_count": null,
   "metadata": {},
   "outputs": [
    {
     "name": "stdout",
     "output_type": "stream",
     "text": [
      "2392\n"
     ]
    }
   ],
   "source": [
    "# adnotations\n",
    "\n",
    "def aria(L: float, l: float)-> float: \n",
    "    return L * l\n",
    "\n",
    "print(aria(104, 23))"
   ]
  },
  {
   "cell_type": "code",
   "execution_count": null,
   "metadata": {},
   "outputs": [],
   "source": [
    "# static type checkers => mypy\n",
    "\n",
    "score:int = 10\n",
    "string_score: str \n",
    "score = 'good'\n",
    "from typing_extensions import Self"
   ]
  },
  {
   "cell_type": "code",
   "execution_count": null,
   "metadata": {},
   "outputs": [],
   "source": [
    "class Employer:\n",
    "    def __init__(self:Self, first_name: str, last_name: str, salary: float) -> None:\n",
    "        self.first_name = first_name\n",
    "        self.last_name = last_name\n",
    "        self.salary = salary\n",
    "    \n",
    "    def get_full_name(self) -> str:\n",
    "        return \"{} {}\".format(self.first_name, self.last_name)\n",
    "    \n",
    "    def salary_increase(self, procent: float) -> None:\n",
    "        self.salary = self.salary * (100 + procent) / 100"
   ]
  },
  {
   "cell_type": "code",
   "execution_count": null,
   "metadata": {},
   "outputs": [],
   "source": [
    "def print_list(lis: list) -> str:\n",
    "    for i in lis:\n",
    "        print(i)\n",
    "    return \"List\""
   ]
  },
  {
   "cell_type": "code",
   "execution_count": null,
   "metadata": {},
   "outputs": [
    {
     "name": "stdout",
     "output_type": "stream",
     "text": [
      "1\n",
      "2\n",
      "3\n",
      "4\n"
     ]
    }
   ],
   "source": [
    "lis:list = [1, 2, 3, 4]\n",
    "\n",
    "name:str = print_list(lis)"
   ]
  },
  {
   "cell_type": "code",
   "execution_count": null,
   "metadata": {},
   "outputs": [
    {
     "name": "stdout",
     "output_type": "stream",
     "text": [
      "List\n"
     ]
    }
   ],
   "source": [
    "print(name)"
   ]
  },
  {
   "cell_type": "code",
   "execution_count": null,
   "metadata": {},
   "outputs": [
    {
     "name": "stdout",
     "output_type": "stream",
     "text": [
      "True\n"
     ]
    }
   ],
   "source": [
    "flag:bool = True\n",
    "print(flag)"
   ]
  },
  {
   "cell_type": "code",
   "execution_count": null,
   "metadata": {},
   "outputs": [],
   "source": [
    "# multiple inheritance\n",
    "\n",
    "class Father:\n",
    "    def __init__(self, nose_length:str):\n",
    "        self.nose_length = nose_length \n",
    "\n",
    "class Mother:\n",
    "    def __init__(self, eyes_color:str):\n",
    "        self.eyes_color = eyes_color"
   ]
  },
  {
   "cell_type": "code",
   "execution_count": null,
   "metadata": {},
   "outputs": [],
   "source": [
    "class Children(Father, Mother):\n",
    "    def __init__(self, m, c):\n",
    "        Father(m)\n",
    "        Mother(c)\n",
    "    \n",
    "    def display(self):\n",
    "        print(Father.m)\n",
    "        print(Mother.c)"
   ]
  },
  {
   "cell_type": "code",
   "execution_count": null,
   "metadata": {},
   "outputs": [],
   "source": [
    "Marius = Children(3, \"blue\")"
   ]
  },
  {
   "cell_type": "code",
   "execution_count": null,
   "metadata": {},
   "outputs": [],
   "source": [
    "# diamond classes problem\n",
    "\n",
    "class Father:\n",
    "    def __init__(self, nose_length:int):\n",
    "        self.nose_length = nose_length \n",
    "\n",
    "class Mother:\n",
    "    def __init__(self, nose_length:int):\n",
    "        self.nose_length = nose_length"
   ]
  },
  {
   "cell_type": "code",
   "execution_count": null,
   "metadata": {},
   "outputs": [],
   "source": [
    "class Children(Father, Mother):\n",
    "    def __init__(self, m, n):\n",
    "        Mother.__init__(self, n)\n",
    "        Father.__init__(self, m)\n",
    "    \n",
    "    def display(self):\n",
    "        print(self.nose_length)"
   ]
  },
  {
   "cell_type": "code",
   "execution_count": null,
   "metadata": {},
   "outputs": [],
   "source": [
    "Marius = Children(3, 5)"
   ]
  },
  {
   "cell_type": "code",
   "execution_count": null,
   "metadata": {},
   "outputs": [
    {
     "name": "stdout",
     "output_type": "stream",
     "text": [
      "3\n"
     ]
    }
   ],
   "source": [
    "Marius.display()"
   ]
  },
  {
   "cell_type": "code",
   "execution_count": null,
   "metadata": {},
   "outputs": [
    {
     "data": {
      "text/plain": [
       "['b', 'a', 'c']"
      ]
     },
     "execution_count": 104,
     "metadata": {},
     "output_type": "execute_result"
    }
   ],
   "source": [
    "# assignment\n",
    "old_list = ['b', 'a', 'a', 'c', 'b', 'a'] # => a b c\n",
    "new_list = [] \n",
    "\n",
    "for x in old_list:\n",
    "    if x not in new_list:\n",
    "        new_list.append(x)\n",
    "new_list"
   ]
  },
  {
   "cell_type": "code",
   "execution_count": null,
   "metadata": {},
   "outputs": [
    {
     "data": {
      "text/plain": [
       "['b', 'a', 'c']"
      ]
     },
     "execution_count": 105,
     "metadata": {},
     "output_type": "execute_result"
    }
   ],
   "source": [
    "new_list = list(dict.fromkeys(old_list).keys())\n",
    "new_list"
   ]
  },
  {
   "cell_type": "code",
   "execution_count": null,
   "metadata": {},
   "outputs": [
    {
     "name": "stdout",
     "output_type": "stream",
     "text": [
      "7\n"
     ]
    }
   ],
   "source": [
    "# homework asssignment \n",
    "\n",
    "sec_1 = 'atgcttcggcaagatcggta'\n",
    "\n",
    "sec_2 = 'atgcttctgcaagatcggta'\n",
    "\n",
    "# position what is not the same\n",
    "pos = 0\n",
    "for x, y in zip(sec_1, sec_2):\n",
    "    if x != y:\n",
    "        print(pos)\n",
    "        break\n",
    "    pos += 1"
   ]
  },
  {
   "cell_type": "code",
   "execution_count": null,
   "metadata": {},
   "outputs": [],
   "source": [
    "class Fractie:\n",
    "    def __init__(self, numar, numit):\n",
    "        self.numar = numar\n",
    "        self.numit = numit\n",
    "        self._simplific()\n",
    "\n",
    "    def get_numar(self):\n",
    "        return self.numar\n",
    "    \n",
    "    def get_numit(self):\n",
    "        return self.numit\n",
    "    \n",
    "    def get_cmmdc(self):\n",
    "        return self._cmmdc(self.numar, self.numit)\n",
    "\n",
    "    def __str__(self):\n",
    "        return str(self.numar) + \"/\" + str(self.numit)\n",
    "\n",
    "    def _cmmdc(self, n1: int, n2: int) -> int:\n",
    "        (n1, n2) = (max(n1, n2), min(n1, n2))\n",
    "        while n2 > 0:\n",
    "            (n1, n2) = (n2, n1 % n2)\n",
    "        return n1\n",
    "\n",
    "    def _simplific(self):\n",
    "        divizor = self._cmmdc(self.numar, self.numit)\n",
    "        self.numar //= divizor\n",
    "        self.numit //= divizor\n",
    "\n",
    "    def add(self, f: 'Fractie') -> 'Fractie':\n",
    "        numar_nou = self.numar * f.numit + f.numar * self.numit\n",
    "        numit_nou = self.numit * f.numit\n",
    "        return Fractie(numar_nou, numit_nou)\n",
    "    \n",
    "    def reduce(self, f: 'Fractie') -> 'Fractie':\n",
    "        numar_nou = self.numar * f.numit - f.numar * self.numit\n",
    "        numit_nou = self.numit * f.numit\n",
    "        return Fractie(numar_nou, numit_nou)\n",
    "    \n",
    "    def multiply(self, f: 'Fractie') -> 'Fractie':\n",
    "        numar_nou = self.numar * f.numit\n",
    "        numit_nou = self.numit * f.numar\n",
    "        return Fractie(numar_nou, numit_nou)\n",
    "\n",
    "    def division(self, f: 'Fractie') -> 'Fractie':\n",
    "        numar_nou = self.numar * f.numit\n",
    "        numit_nou = self.numit * f.numar\n",
    "        return Fractie(numar_nou, numit_nou)\n",
    "\n",
    "\n",
    "    def lt(self, f: 'Fractie') -> bool:\n",
    "        prod_mezi = self.numar * f.numit\n",
    "        prod_extr = self.numit * f.numar\n",
    "        return prod_mezi < prod_extr\n",
    "\n",
    "    def eq(self, f: 'Fractie') -> bool:\n",
    "        return self.numar == f.numar and self.numit == f.numit"
   ]
  },
  {
   "cell_type": "code",
   "execution_count": null,
   "metadata": {},
   "outputs": [
    {
     "data": {
      "text/plain": [
       "'4/1'"
      ]
     },
     "execution_count": 28,
     "metadata": {},
     "output_type": "execute_result"
    }
   ],
   "source": [
    "fraction = Fractie(4, 2)\n",
    "a = fraction.add(fraction)\n",
    "a.__str__()"
   ]
  },
  {
   "cell_type": "code",
   "execution_count": null,
   "metadata": {},
   "outputs": [
    {
     "data": {
      "text/plain": [
       "'0/1'"
      ]
     },
     "execution_count": 30,
     "metadata": {},
     "output_type": "execute_result"
    }
   ],
   "source": [
    "b = fraction.reduce(fraction)\n",
    "b.__str__()"
   ]
  },
  {
   "cell_type": "code",
   "execution_count": null,
   "metadata": {},
   "outputs": [
    {
     "data": {
      "text/plain": [
       "'1/1'"
      ]
     },
     "execution_count": 32,
     "metadata": {},
     "output_type": "execute_result"
    }
   ],
   "source": [
    "c = fraction.multiply(fraction)\n",
    "c.__str__()"
   ]
  },
  {
   "cell_type": "code",
   "execution_count": null,
   "metadata": {},
   "outputs": [
    {
     "data": {
      "text/plain": [
       "'1/1'"
      ]
     },
     "execution_count": 33,
     "metadata": {},
     "output_type": "execute_result"
    }
   ],
   "source": [
    "d = fraction.division(fraction)\n",
    "d.__str__()"
   ]
  },
  {
   "cell_type": "code",
   "execution_count": null,
   "metadata": {},
   "outputs": [],
   "source": [
    "# Tuples and Dictionary in function parameters\n",
    "\n",
    "def f1(*args):\n",
    "    for a in args:\n",
    "        print(a)\n",
    "    \n",
    "def f2(**kwargs):\n",
    "    for k, v in kwargs.items():\n",
    "        print(f'{k}: {v}')\n"
   ]
  },
  {
   "cell_type": "code",
   "execution_count": null,
   "metadata": {},
   "outputs": [
    {
     "name": "stdout",
     "output_type": "stream",
     "text": [
      "2\n",
      "3\n",
      "4\n",
      "5\n",
      "6\n"
     ]
    }
   ],
   "source": [
    "f1(2, 3, 4, 5, 6)"
   ]
  },
  {
   "cell_type": "code",
   "execution_count": null,
   "metadata": {},
   "outputs": [
    {
     "name": "stdout",
     "output_type": "stream",
     "text": [
      "21\n",
      "3\n"
     ]
    }
   ],
   "source": [
    "f1(21, 3)"
   ]
  },
  {
   "cell_type": "code",
   "execution_count": null,
   "metadata": {},
   "outputs": [
    {
     "name": "stdout",
     "output_type": "stream",
     "text": [
      "name: Ivan\n",
      "age: 19\n",
      "city: Cahul\n"
     ]
    }
   ],
   "source": [
    "f2(name = 'Ivan', age = 19, city = 'Cahul')"
   ]
  },
  {
   "cell_type": "code",
   "execution_count": null,
   "metadata": {},
   "outputs": [],
   "source": [
    "def my_func(*args):\n",
    "    if len(args) == 0:\n",
    "        print(\"Nothing\")\n",
    "    elif len(args) == 1:\n",
    "        print(\"One argument\")\n",
    "    elif len(args) == 2:\n",
    "        print(\"Two!\")\n",
    "    else:\n",
    "        print(\"More\")"
   ]
  },
  {
   "cell_type": "code",
   "execution_count": null,
   "metadata": {},
   "outputs": [
    {
     "name": "stdout",
     "output_type": "stream",
     "text": [
      "Nothing\n"
     ]
    }
   ],
   "source": [
    "my_func()"
   ]
  },
  {
   "cell_type": "code",
   "execution_count": null,
   "metadata": {},
   "outputs": [
    {
     "name": "stdout",
     "output_type": "stream",
     "text": [
      "One argument\n"
     ]
    }
   ],
   "source": [
    "my_func(23)"
   ]
  },
  {
   "cell_type": "code",
   "execution_count": null,
   "metadata": {},
   "outputs": [
    {
     "name": "stdout",
     "output_type": "stream",
     "text": [
      "Two!\n"
     ]
    }
   ],
   "source": [
    "my_func(22, 22)"
   ]
  },
  {
   "cell_type": "code",
   "execution_count": null,
   "metadata": {},
   "outputs": [
    {
     "name": "stdout",
     "output_type": "stream",
     "text": [
      "More\n"
     ]
    }
   ],
   "source": [
    "my_func(2, 2, 2, 2)"
   ]
  },
  {
   "cell_type": "code",
   "execution_count": null,
   "metadata": {},
   "outputs": [],
   "source": [
    "# Decorators\n",
    "\n",
    "from multipledispatch import dispatch\n",
    "\n",
    "@dispatch(int)\n",
    "def f(arg):\n",
    "    print(\"One integer\")\n",
    "\n",
    "@dispatch(float)\n",
    "def f(arg):\n",
    "    print(\"One float\")\n",
    "\n",
    "@dispatch(str)\n",
    "def f(arg):\n",
    "    print(\"One string\")"
   ]
  },
  {
   "cell_type": "code",
   "execution_count": null,
   "metadata": {},
   "outputs": [
    {
     "name": "stdout",
     "output_type": "stream",
     "text": [
      "One integer\n",
      "One float\n",
      "One string\n"
     ]
    }
   ],
   "source": [
    "f(23)\n",
    "f(3.14)\n",
    "f(\"Cahul\")"
   ]
  },
  {
   "cell_type": "code",
   "execution_count": null,
   "metadata": {},
   "outputs": [],
   "source": [
    "class Test:\n",
    "    @dispatch(int)\n",
    "    def __init__(self, a) -> None:\n",
    "        print(\"One integer\")\n",
    "    \n",
    "    @dispatch(str)\n",
    "    def __init__(self, a):\n",
    "        print(\"One string\")"
   ]
  },
  {
   "cell_type": "code",
   "execution_count": null,
   "metadata": {},
   "outputs": [
    {
     "name": "stdout",
     "output_type": "stream",
     "text": [
      "One integer\n"
     ]
    },
    {
     "data": {
      "text/plain": [
       "<__main__.Test at 0x7f1ec819e1b0>"
      ]
     },
     "execution_count": 35,
     "metadata": {},
     "output_type": "execute_result"
    }
   ],
   "source": [
    "Test(1)"
   ]
  },
  {
   "cell_type": "code",
   "execution_count": null,
   "metadata": {},
   "outputs": [
    {
     "name": "stdout",
     "output_type": "stream",
     "text": [
      "One string\n"
     ]
    },
    {
     "data": {
      "text/plain": [
       "<__main__.Test at 0x7f1ec835ba70>"
      ]
     },
     "execution_count": 36,
     "metadata": {},
     "output_type": "execute_result"
    }
   ],
   "source": [
    "Test(\"Hello World!\")"
   ]
  },
  {
   "cell_type": "code",
   "execution_count": null,
   "metadata": {},
   "outputs": [],
   "source": [
    "def my_decorator(func):\n",
    "    def wrapper():\n",
    "        print(\"Something here\")\n",
    "        func()\n",
    "        print(\"Here\")\n",
    "    return wrapper\n",
    "\n",
    "@my_decorator\n",
    "def hello():\n",
    "    print(\"I am the function without clothes!\")"
   ]
  },
  {
   "cell_type": "code",
   "execution_count": null,
   "metadata": {},
   "outputs": [
    {
     "name": "stdout",
     "output_type": "stream",
     "text": [
      "Something here\n",
      "I am the function without clothes!\n",
      "Here\n"
     ]
    }
   ],
   "source": [
    "hello()"
   ]
  },
  {
   "cell_type": "code",
   "execution_count": null,
   "metadata": {},
   "outputs": [],
   "source": [
    "import time \n",
    "\n",
    "def duration_measurement(func):\n",
    "    def wrapper(*args, **kwargs):\n",
    "        start = time.time()\n",
    "        result = func(*args, **kwargs)\n",
    "        end = time.time()\n",
    "        print(f\"Time: {end - start} seconds\")\n",
    "        return result\n",
    "    return wrapper\n",
    "\n",
    "@duration_measurement\n",
    "def func2(n):\n",
    "    time.sleep(n)\n",
    "    return n"
   ]
  },
  {
   "cell_type": "code",
   "execution_count": null,
   "metadata": {},
   "outputs": [
    {
     "name": "stdout",
     "output_type": "stream",
     "text": [
      "Time: 3.0000813007354736 seconds\n",
      "3\n"
     ]
    }
   ],
   "source": [
    "print(func2(3))"
   ]
  },
  {
   "cell_type": "code",
   "execution_count": null,
   "metadata": {},
   "outputs": [],
   "source": [
    "# Decorator with args\n",
    "\n",
    "def repeat(n_or):\n",
    "    def decorator(func):\n",
    "        def wrapper(*args, **kwargs):\n",
    "            for _ in range(n_or):\n",
    "                result = func(*args, **kwargs)\n",
    "            return result\n",
    "        return wrapper\n",
    "    return decorator\n",
    "\n",
    "@repeat(3)\n",
    "def hello(name : str):\n",
    "    print(f'Hello, {name}!')"
   ]
  },
  {
   "cell_type": "code",
   "execution_count": null,
   "metadata": {},
   "outputs": [
    {
     "name": "stdout",
     "output_type": "stream",
     "text": [
      "Hello, Marius!\n",
      "Hello, Marius!\n",
      "Hello, Marius!\n"
     ]
    }
   ],
   "source": [
    "hello(\"Marius\")"
   ]
  },
  {
   "cell_type": "code",
   "execution_count": null,
   "metadata": {},
   "outputs": [],
   "source": [
    "def new_decorator(func):\n",
    "    def wrapper(*args):\n",
    "        print(f\"*args from wrapper are {args}\")\n",
    "        result = func(*args)\n",
    "        return result\n",
    "    return wrapper\n",
    "\n",
    "@new_decorator\n",
    "def new_f(*args):\n",
    "    print(f\"*args from the decorated function: {args}\")"
   ]
  },
  {
   "cell_type": "code",
   "execution_count": null,
   "metadata": {},
   "outputs": [
    {
     "name": "stdout",
     "output_type": "stream",
     "text": [
      "*args from wrapper are (23, 24, 25)\n",
      "*args from the decorated function: (23, 24, 25)\n"
     ]
    }
   ],
   "source": [
    "new_f(23, 24, 25)"
   ]
  },
  {
   "cell_type": "code",
   "execution_count": null,
   "metadata": {},
   "outputs": [],
   "source": [
    "def hello():\n",
    "    def say_hello():\n",
    "        return \"Hello, mechatronics!\"  \n",
    "    return say_hello      "
   ]
  },
  {
   "cell_type": "code",
   "execution_count": null,
   "metadata": {},
   "outputs": [],
   "source": [
    "function = hello()"
   ]
  },
  {
   "cell_type": "code",
   "execution_count": null,
   "metadata": {},
   "outputs": [
    {
     "data": {
      "text/plain": [
       "'Hello, mechatronics!'"
      ]
     },
     "execution_count": 65,
     "metadata": {},
     "output_type": "execute_result"
    }
   ],
   "source": [
    "function()"
   ]
  },
  {
   "cell_type": "code",
   "execution_count": null,
   "metadata": {},
   "outputs": [],
   "source": [
    "# Closure\n",
    "\n",
    "def func_ext(x):\n",
    "    def func_int(y):\n",
    "        return x + y\n",
    "    return func_int"
   ]
  },
  {
   "cell_type": "code",
   "execution_count": null,
   "metadata": {},
   "outputs": [
    {
     "data": {
      "text/plain": [
       "30"
      ]
     },
     "execution_count": 68,
     "metadata": {},
     "output_type": "execute_result"
    }
   ],
   "source": [
    "closure = func_ext(10)\n",
    "\n",
    "result = closure(20)\n",
    "\n",
    "result"
   ]
  },
  {
   "cell_type": "code",
   "execution_count": null,
   "metadata": {},
   "outputs": [
    {
     "data": {
      "text/plain": [
       "110"
      ]
     },
     "execution_count": 69,
     "metadata": {},
     "output_type": "execute_result"
    }
   ],
   "source": [
    "closure(100)"
   ]
  },
  {
   "cell_type": "code",
   "execution_count": 29,
   "metadata": {},
   "outputs": [],
   "source": [
    "# Composition, Dependence & Agreggation\n",
    "class Motor:\n",
    "    def __init__(self, type_motor):\n",
    "        self.type_motor = type_motor\n",
    "    \n",
    "    def starting(self):\n",
    "        print(\"It started!\")\n",
    "\n",
    "    def stopping(self):\n",
    "        print(\"It stopped!\")\n",
    "\n",
    "class Passager:\n",
    "    def __init__(self, name):\n",
    "        self.name = name \n",
    "\n",
    "    def display_name(self):\n",
    "        print(f\"Passager name: {self.name}\")\n",
    "\n",
    "class Odorizant:\n",
    "    def odorizant_in_the_car(self):\n",
    "        print(\"Pffffff!\")\n",
    "\n",
    "class Automobile:\n",
    "    def __init__(self, mark, model, motor : Motor):\n",
    "        self.mark = mark \n",
    "        self.model = model \n",
    "        self.motor = motor \n",
    "        self.passagers = []\n",
    "    \n",
    "    def add_pasagers(self, passager : Passager):\n",
    "        self.passagers.append(passager)\n",
    "    \n",
    "    def show_info(self):\n",
    "        print(\"Automobil \", self.mark, self.model)\n",
    "        print(\"Motor \", self.motor.type_motor)\n",
    "        for p in self.passagers:\n",
    "            p.display_name()\n",
    "    \n",
    "    def operations(self):\n",
    "        od1 = Odorizant()\n",
    "        od1.odorizant_in_the_car()"
   ]
  },
  {
   "cell_type": "code",
   "execution_count": 25,
   "metadata": {},
   "outputs": [],
   "source": [
    "# utilization\n",
    "motor_automobile = Motor(\"Diesel\")\n",
    "pas1 = Passager(\"Mihnea\")\n",
    "pas2 = Passager(\"Rebeca\")\n",
    "automobile = Automobile(\"Ford\", \"Focus\", motor_automobile)"
   ]
  },
  {
   "cell_type": "code",
   "execution_count": 26,
   "metadata": {},
   "outputs": [],
   "source": [
    "automobile.add_pasagers(pas1)\n",
    "automobile.add_pasagers(pas2)"
   ]
  },
  {
   "cell_type": "code",
   "execution_count": 27,
   "metadata": {},
   "outputs": [
    {
     "name": "stdout",
     "output_type": "stream",
     "text": [
      "Automobil  Ford Focus\n",
      "Motor  Diesel\n",
      "Passager name: Mihnea\n",
      "Passager name: Rebeca\n"
     ]
    }
   ],
   "source": [
    "automobile.show_info()"
   ]
  },
  {
   "cell_type": "code",
   "execution_count": 30,
   "metadata": {},
   "outputs": [
    {
     "name": "stdout",
     "output_type": "stream",
     "text": [
      "Pffffff!\n"
     ]
    }
   ],
   "source": [
    "automobile.operations()"
   ]
  }
 ],
 "metadata": {
  "kernelspec": {
   "display_name": "Python 3",
   "language": "python",
   "name": "python3"
  },
  "language_info": {
   "codemirror_mode": {
    "name": "ipython",
    "version": 3
   },
   "file_extension": ".py",
   "mimetype": "text/x-python",
   "name": "python",
   "nbconvert_exporter": "python",
   "pygments_lexer": "ipython3",
   "version": "3.12.2"
  }
 },
 "nbformat": 4,
 "nbformat_minor": 2
}
